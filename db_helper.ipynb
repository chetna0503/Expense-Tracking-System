{
 "cells": [
  {
   "cell_type": "code",
   "execution_count": 1,
   "id": "1e2b8e4f-1e32-4e7e-9e50-988558bd58b5",
   "metadata": {},
   "outputs": [
    {
     "name": "stdout",
     "output_type": "stream",
     "text": [
      "Closing cursor\n",
      "Closing cursor\n"
     ]
    }
   ],
   "source": [
    "import mysql.connector\n",
    "from contextlib import contextmanager\n",
    "\n",
    "\n",
    "@contextmanager\n",
    "def get_db_cursor(commit=False):\n",
    "    connection = mysql.connector.connect(\n",
    "        host=\"localhost\",\n",
    "        user=\"root\",\n",
    "        password=\"557799\",\n",
    "        database=\"expense_manager\"\n",
    "    )\n",
    "\n",
    "    cursor = connection.cursor(dictionary=True)\n",
    "    yield cursor\n",
    "    if commit:\n",
    "        connection.commit()\n",
    "    print(\"Closing cursor\")\n",
    "    cursor.close()\n",
    "    connection.close()\n",
    "\n",
    "\n",
    "def fetch_all_records():\n",
    "    query = \"SELECT * from expenses\"\n",
    "\n",
    "    with get_db_cursor() as cursor:\n",
    "        cursor.execute(query)\n",
    "        expenses = cursor.fetchall()\n",
    "        for expense in expenses:\n",
    "            print(expense)\n",
    "\n",
    "\n",
    "def fetch_expenses_for_date(expense_date):\n",
    "    with get_db_cursor() as cursor:\n",
    "        cursor.execute(\"SELECT * FROM expenses WHERE expense_date = %s\", (expense_date,))\n",
    "        expenses = cursor.fetchall()\n",
    "        for expense in expenses:\n",
    "            print(expense)\n",
    "\n",
    "\n",
    "def insert_expense(expense_date, amount, category, notes):\n",
    "    with get_db_cursor(commit=True) as cursor:\n",
    "        cursor.execute(\n",
    "            \"INSERT INTO expenses (expense_date, amount, category, notes) VALUES (%s, %s, %s, %s)\",\n",
    "            (expense_date, amount, category, notes)\n",
    "        )\n",
    "\n",
    "\n",
    "def delete_expenses_for_date(expense_date):\n",
    "    with get_db_cursor(commit=True) as cursor:\n",
    "        cursor.execute(\"DELETE FROM expenses WHERE expense_date = %s\", (expense_date,))\n",
    "\n",
    "\n",
    "if __name__ == \"__main__\":\n",
    "    # fetch_all_records()\n",
    "    # fetch_expenses_for_date(\"2024-08-01\")\n",
    "    # insert_expense(\"2024-08-20\", 300, \"Food\", \"Panipuri\")\n",
    "    delete_expenses_for_date(\"2024-08-20\")\n",
    "    fetch_expenses_for_date(\"2024-08-20\")"
   ]
  },
  {
   "cell_type": "raw",
   "id": "8991cc58-72c4-4687-b645-215594b699f2",
   "metadata": {},
   "source": [
    "def fetch_all_records():\n",
    "    query = \"SELECT * from expenses\"\n",
    "\n",
    "    with get_db_cursor() as cursor:\n",
    "        cursor.execute(query)\n",
    "        expenses = cursor.fetchall()\n",
    "        for expense in expenses:\n",
    "            print(expense)"
   ]
  },
  {
   "cell_type": "code",
   "execution_count": null,
   "id": "1bae329e-7872-4bec-bad1-ae50ee1d633b",
   "metadata": {},
   "outputs": [],
   "source": []
  },
  {
   "cell_type": "code",
   "execution_count": null,
   "id": "e61f4298-b052-4a6f-b2d4-3e0008d3290f",
   "metadata": {},
   "outputs": [],
   "source": []
  },
  {
   "cell_type": "code",
   "execution_count": null,
   "id": "926b3520-c4de-41a4-a04e-4ae4c253ddf8",
   "metadata": {},
   "outputs": [],
   "source": []
  },
  {
   "cell_type": "code",
   "execution_count": null,
   "id": "12f23cfb-b04f-479c-b2e1-1ef29adafda1",
   "metadata": {},
   "outputs": [],
   "source": []
  },
  {
   "cell_type": "code",
   "execution_count": null,
   "id": "24f92c1c-24eb-417d-833b-2b9dfb6361a1",
   "metadata": {},
   "outputs": [],
   "source": []
  },
  {
   "cell_type": "code",
   "execution_count": null,
   "id": "7abe584d-c2c2-4571-bb8e-097f6cd024fc",
   "metadata": {},
   "outputs": [],
   "source": []
  },
  {
   "cell_type": "code",
   "execution_count": null,
   "id": "17e971c4-56f1-47bc-adf8-5973e596071b",
   "metadata": {},
   "outputs": [],
   "source": []
  }
 ],
 "metadata": {
  "kernelspec": {
   "display_name": "Python (FastAPI)",
   "language": "python",
   "name": "fastapi_env"
  },
  "language_info": {
   "codemirror_mode": {
    "name": "ipython",
    "version": 3
   },
   "file_extension": ".py",
   "mimetype": "text/x-python",
   "name": "python",
   "nbconvert_exporter": "python",
   "pygments_lexer": "ipython3",
   "version": "3.12.7"
  }
 },
 "nbformat": 4,
 "nbformat_minor": 5
}
